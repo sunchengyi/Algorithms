{
 "cells": [
  {
   "cell_type": "markdown",
   "metadata": {},
   "source": [
    "# Intuition about RMSprop and Adam optimizations"
   ]
  },
  {
   "cell_type": "markdown",
   "metadata": {},
   "source": [
    "The two well-known optimizaion algorithms are widely used in the deep learning. Here I give some intuition about them.\n",
    "First, I begin with the gradient descent with momentum."
   ]
  },
  {
   "cell_type": "markdown",
   "metadata": {},
   "source": [
    "## 1. Gradient descent with momentum\n",
    "On the interation $t$, the weight $w$ is updated, for the gradient descent with momentum, as follow\n",
    "\\begin{align} \n",
    " V_{dw}(t) &= \\beta_1 V_{dw} + (1-\\beta_1)dw \\\\\n",
    "w &= w - \\alpha V_{dw}(t),\n",
    "\\end{align}\n",
    "where $dw$ are the derivative of the loss $J$ at this interation with respect to the weight $w$. And $\\beta_1$ and $\\alpha$ are two hyperparameters."
   ]
  },
  {
   "cell_type": "markdown",
   "metadata": {},
   "source": [
    "This algorithm with momenum will give a very small "
   ]
  }
 ],
 "metadata": {
  "kernelspec": {
   "display_name": "Python 3",
   "language": "python",
   "name": "python3"
  },
  "language_info": {
   "codemirror_mode": {
    "name": "ipython",
    "version": 3
   },
   "file_extension": ".py",
   "mimetype": "text/x-python",
   "name": "python",
   "nbconvert_exporter": "python",
   "pygments_lexer": "ipython3",
   "version": "3.6.7"
  }
 },
 "nbformat": 4,
 "nbformat_minor": 2
}
