{
 "cells": [
  {
   "cell_type": "markdown",
   "metadata": {},
   "source": [
    "# support vecotrer machine\n"
   ]
  },
  {
   "cell_type": "code",
   "execution_count": 13,
   "metadata": {},
   "outputs": [],
   "source": [
    "# fit a svm on an imbalanced classification dataset\n",
    "from numpy import mean\n",
    "from sklearn.datasets import make_classification\n",
    "from sklearn.model_selection import cross_val_predict\n",
    "from sklearn.svm import SVC, LinearSVC\n",
    "from sklearn.metrics import precision_score, recall_score, accuracy_score,\\\n",
    "                            f1_score, confusion_matrix\n"
   ]
  },
  {
   "cell_type": "markdown",
   "metadata": {},
   "source": [
    "## 1. Imbalanced Data and SVM\n",
    "\n",
    "It is well known that for the imbalanced data, we can set the paramter 'class_weights' to deal with the skewed class disctribution. This means that we should balace the data before fit a SVM model to the data. Some day, I was confused by this fact. Since, to my knowledge, the boundary of the SVM is only decided by the support vectors, the instances on the edge, it should not effect the the support vectors whether whether the class distribution is skewed or not. After a while, I realized, usually, a SVM model is a soft margin classification. For the imbalanced data, the model should tolerate more margin violations in the majority class than in the minority. The parameter 'C' controls the toleration. So, as C increasing, the effect of 'class_weights' should disappear.\n",
    "\n",
    "Let me check this conclusion!"
   ]
  },
  {
   "cell_type": "code",
   "execution_count": 52,
   "metadata": {},
   "outputs": [],
   "source": [
    "#-------------------------------------------------------------------------\n",
    "def scores_predict(y_pred, data_y):\n",
    "    \"\"\"\n",
    "    Evaluate the confusion matirx and the metrics on 'y_pred' and 'data_y' data.\n",
    "    The metric list to be used are ['precision','recall', 'accuracy','f1', \n",
    "    'f1_macro', 'f1_weighted' ]\n",
    "    \"\"\"\n",
    "    scores = {'conf_matrix': confusion_matrix(data_y, y_pred),\n",
    "              'precision': precision_score(data_y, y_pred),\n",
    "              'recall': recall_score(data_y, y_pred),\n",
    "              'accuracy': accuracy_score(data_y, y_pred),\n",
    "              'f1': f1_score(data_y, y_pred),\n",
    "              'f1_micro': f1_score(data_y, y_pred, average='micro'),\n",
    "              'f1_macro': f1_score(data_y, y_pred, average='macro'),\n",
    "              'f1_weighted': f1_score(data_y, y_pred, average='weighted')}\n",
    "    #print(\"Confusion matrix:\" )\n",
    "    #print(scores['conf_matrix'])\n",
    "    return scores\n"
   ]
  },
  {
   "cell_type": "code",
   "execution_count": 53,
   "metadata": {},
   "outputs": [],
   "source": [
    "# generate dataset\n",
    "X, y = make_classification(n_samples=10000, n_features=2, n_redundant=0,\n",
    "                           n_clusters_per_class=1, weights=[0.99], flip_y=0, random_state=4)"
   ]
  },
  {
   "cell_type": "code",
   "execution_count": 56,
   "metadata": {},
   "outputs": [
    {
     "name": "stdout",
     "output_type": "stream",
     "text": [
      "C = 10:------------------------\n",
      "Imbalanced----precision: 1.000, recall: 0.610, f1: 0.758\n",
      "  Balanced----precision: 0.157, recall: 0.900, f1: 0.267\n",
      "C = 100:------------------------\n",
      "Imbalanced----precision: 1.000, recall: 0.630, f1: 0.773\n",
      "  Balanced----precision: 0.664, recall: 0.750, f1: 0.704\n",
      "C = 1000:------------------------\n",
      "Imbalanced----precision: 0.833, recall: 0.600, f1: 0.698\n",
      "  Balanced----precision: 0.977, recall: 0.430, f1: 0.597\n",
      "C = 10000:------------------------\n",
      "Imbalanced----precision: 0.942, recall: 0.490, f1: 0.645\n",
      "  Balanced----precision: 0.581, recall: 0.540, f1: 0.560\n",
      "C = 100000:------------------------\n",
      "Imbalanced----precision: 0.389, recall: 0.350, f1: 0.368\n",
      "  Balanced----precision: 0.667, recall: 0.560, f1: 0.609\n",
      "C = 1000000:------------------------\n",
      "Imbalanced----precision: 0.742, recall: 0.660, f1: 0.698\n",
      "  Balanced----precision: 0.934, recall: 0.570, f1: 0.708\n",
      "C = 10000000:------------------------\n",
      "Imbalanced----precision: 0.936, recall: 0.440, f1: 0.599\n",
      "  Balanced----precision: 0.955, recall: 0.420, f1: 0.583\n",
      "C = 100000000:------------------------\n",
      "Imbalanced----precision: 0.957, recall: 0.440, f1: 0.603\n",
      "  Balanced----precision: 0.957, recall: 0.440, f1: 0.603\n",
      "C = 1000000000:------------------------\n",
      "Imbalanced----precision: 0.957, recall: 0.440, f1: 0.603\n",
      "  Balanced----precision: 0.957, recall: 0.440, f1: 0.603\n",
      "C = 10000000000:------------------------\n",
      "Imbalanced----precision: 0.957, recall: 0.440, f1: 0.603\n",
      "  Balanced----precision: 0.957, recall: 0.440, f1: 0.603\n"
     ]
    }
   ],
   "source": [
    "# define model\n",
    "for index in range(1, 11):\n",
    "    model = LinearSVC(C=10**index, random_state=1, class_weight=None)\n",
    "    model_weighted = LinearSVC(C=10**index, random_state=1, class_weight='balanced')\n",
    "    pred = cross_val_predict(model, X, y, cv=10, n_jobs=-1)\n",
    "    scores = scores_predict(pred, y)\n",
    "    print(f'C = {10**index}:------------------------')\n",
    "    print(f\"Imbalanced----precision: {scores['precision']:0.3f}, recall: {scores['recall']:0.3f}, f1: {scores['f1']:0.3f}\")\n",
    "    pred = cross_val_predict(model_weighted, X, y, cv=10, n_jobs=-1)\n",
    "    scores = scores_predict(pred, y)\n",
    "    print(f\"  Balanced----precision: {scores['precision']:0.3f}, recall: {scores['recall']:0.3f}, f1: {scores['f1']:0.3f}\")"
   ]
  },
  {
   "cell_type": "markdown",
   "metadata": {},
   "source": [
    "Clearly, when C is equal to or greater than $10^8$, 'class_weight' plays no role."
   ]
  },
  {
   "cell_type": "code",
   "execution_count": null,
   "metadata": {},
   "outputs": [],
   "source": []
  }
 ],
 "metadata": {
  "kernelspec": {
   "display_name": "Python 3",
   "language": "python",
   "name": "python3"
  },
  "language_info": {
   "codemirror_mode": {
    "name": "ipython",
    "version": 3
   },
   "file_extension": ".py",
   "mimetype": "text/x-python",
   "name": "python",
   "nbconvert_exporter": "python",
   "pygments_lexer": "ipython3",
   "version": "3.6.7"
  }
 },
 "nbformat": 4,
 "nbformat_minor": 4
}
